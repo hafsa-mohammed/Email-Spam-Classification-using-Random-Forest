{
  "cells": [
    {
      "cell_type": "code",
      "source": [
        "from google.colab import drive\n",
        "#mount google drive\n",
        "drive.mount('/content/drive/')"
      ],
      "metadata": {
        "colab": {
          "base_uri": "https://localhost:8080/"
        },
        "id": "HUJJRfeIW263",
        "outputId": "77f78950-ab2e-450d-d950-e815c8cd669c"
      },
      "id": "HUJJRfeIW263",
      "execution_count": null,
      "outputs": [
        {
          "output_type": "stream",
          "name": "stdout",
          "text": [
            "Mounted at /content/drive/\n"
          ]
        }
      ]
    },
    {
      "cell_type": "code",
      "source": [
        "import os\n",
        "os.chdir(\"/content/drive/My Drive/Colab Notebooks/\")"
      ],
      "metadata": {
        "id": "a0aKmkytW2n3"
      },
      "id": "a0aKmkytW2n3",
      "execution_count": null,
      "outputs": []
    },
    {
      "cell_type": "code",
      "execution_count": null,
      "id": "0e204929",
      "metadata": {
        "id": "0e204929"
      },
      "outputs": [],
      "source": [
        "import numpy as np \n",
        "import pandas as pd \n",
        "import matplotlib.pyplot as plt\n",
        "%matplotlib inline\n",
        "import seaborn as sns\n",
        "from sklearn.model_selection import train_test_split\n",
        "from sklearn.ensemble import RandomForestClassifier\n",
        "from sklearn.metrics import accuracy_score, confusion_matrix, classification_report, roc_auc_score, matthews_corrcoef"
      ]
    },
    {
      "cell_type": "markdown",
      "id": "4b0dc87c",
      "metadata": {
        "id": "4b0dc87c"
      },
      "source": [
        "# Dataset\n",
        "This is a csv file containing related information of 5172 randomly picked email files and their respective labels for spam or not-spam classification.\n",
        "\n"
      ]
    },
    {
      "cell_type": "code",
      "execution_count": null,
      "id": "e95da191",
      "metadata": {
        "id": "e95da191",
        "outputId": "f5d511ee-dc01-40d2-981b-c0990b63e9ce",
        "colab": {
          "base_uri": "https://localhost:8080/",
          "height": 235
        }
      },
      "outputs": [
        {
          "output_type": "execute_result",
          "data": {
            "text/plain": [
              "  Email No.  the  to  ect  and  for  of    a  you  hou  ...  connevey  jay  \\\n",
              "0   Email 1    0   0    1    0    0   0    2    0    0  ...         0    0   \n",
              "1   Email 2    8  13   24    6    6   2  102    1   27  ...         0    0   \n",
              "2   Email 3    0   0    1    0    0   0    8    0    0  ...         0    0   \n",
              "3   Email 4    0   5   22    0    5   1   51    2   10  ...         0    0   \n",
              "4   Email 5    7   6   17    1    5   2   57    0    9  ...         0    0   \n",
              "\n",
              "   valued  lay  infrastructure  military  allowing  ff  dry  Prediction  \n",
              "0       0    0               0         0         0   0    0           0  \n",
              "1       0    0               0         0         0   1    0           0  \n",
              "2       0    0               0         0         0   0    0           0  \n",
              "3       0    0               0         0         0   0    0           0  \n",
              "4       0    0               0         0         0   1    0           0  \n",
              "\n",
              "[5 rows x 3002 columns]"
            ],
            "text/html": [
              "\n",
              "  <div id=\"df-5d4925b3-be82-4334-807e-981bfb48a560\">\n",
              "    <div class=\"colab-df-container\">\n",
              "      <div>\n",
              "<style scoped>\n",
              "    .dataframe tbody tr th:only-of-type {\n",
              "        vertical-align: middle;\n",
              "    }\n",
              "\n",
              "    .dataframe tbody tr th {\n",
              "        vertical-align: top;\n",
              "    }\n",
              "\n",
              "    .dataframe thead th {\n",
              "        text-align: right;\n",
              "    }\n",
              "</style>\n",
              "<table border=\"1\" class=\"dataframe\">\n",
              "  <thead>\n",
              "    <tr style=\"text-align: right;\">\n",
              "      <th></th>\n",
              "      <th>Email No.</th>\n",
              "      <th>the</th>\n",
              "      <th>to</th>\n",
              "      <th>ect</th>\n",
              "      <th>and</th>\n",
              "      <th>for</th>\n",
              "      <th>of</th>\n",
              "      <th>a</th>\n",
              "      <th>you</th>\n",
              "      <th>hou</th>\n",
              "      <th>...</th>\n",
              "      <th>connevey</th>\n",
              "      <th>jay</th>\n",
              "      <th>valued</th>\n",
              "      <th>lay</th>\n",
              "      <th>infrastructure</th>\n",
              "      <th>military</th>\n",
              "      <th>allowing</th>\n",
              "      <th>ff</th>\n",
              "      <th>dry</th>\n",
              "      <th>Prediction</th>\n",
              "    </tr>\n",
              "  </thead>\n",
              "  <tbody>\n",
              "    <tr>\n",
              "      <th>0</th>\n",
              "      <td>Email 1</td>\n",
              "      <td>0</td>\n",
              "      <td>0</td>\n",
              "      <td>1</td>\n",
              "      <td>0</td>\n",
              "      <td>0</td>\n",
              "      <td>0</td>\n",
              "      <td>2</td>\n",
              "      <td>0</td>\n",
              "      <td>0</td>\n",
              "      <td>...</td>\n",
              "      <td>0</td>\n",
              "      <td>0</td>\n",
              "      <td>0</td>\n",
              "      <td>0</td>\n",
              "      <td>0</td>\n",
              "      <td>0</td>\n",
              "      <td>0</td>\n",
              "      <td>0</td>\n",
              "      <td>0</td>\n",
              "      <td>0</td>\n",
              "    </tr>\n",
              "    <tr>\n",
              "      <th>1</th>\n",
              "      <td>Email 2</td>\n",
              "      <td>8</td>\n",
              "      <td>13</td>\n",
              "      <td>24</td>\n",
              "      <td>6</td>\n",
              "      <td>6</td>\n",
              "      <td>2</td>\n",
              "      <td>102</td>\n",
              "      <td>1</td>\n",
              "      <td>27</td>\n",
              "      <td>...</td>\n",
              "      <td>0</td>\n",
              "      <td>0</td>\n",
              "      <td>0</td>\n",
              "      <td>0</td>\n",
              "      <td>0</td>\n",
              "      <td>0</td>\n",
              "      <td>0</td>\n",
              "      <td>1</td>\n",
              "      <td>0</td>\n",
              "      <td>0</td>\n",
              "    </tr>\n",
              "    <tr>\n",
              "      <th>2</th>\n",
              "      <td>Email 3</td>\n",
              "      <td>0</td>\n",
              "      <td>0</td>\n",
              "      <td>1</td>\n",
              "      <td>0</td>\n",
              "      <td>0</td>\n",
              "      <td>0</td>\n",
              "      <td>8</td>\n",
              "      <td>0</td>\n",
              "      <td>0</td>\n",
              "      <td>...</td>\n",
              "      <td>0</td>\n",
              "      <td>0</td>\n",
              "      <td>0</td>\n",
              "      <td>0</td>\n",
              "      <td>0</td>\n",
              "      <td>0</td>\n",
              "      <td>0</td>\n",
              "      <td>0</td>\n",
              "      <td>0</td>\n",
              "      <td>0</td>\n",
              "    </tr>\n",
              "    <tr>\n",
              "      <th>3</th>\n",
              "      <td>Email 4</td>\n",
              "      <td>0</td>\n",
              "      <td>5</td>\n",
              "      <td>22</td>\n",
              "      <td>0</td>\n",
              "      <td>5</td>\n",
              "      <td>1</td>\n",
              "      <td>51</td>\n",
              "      <td>2</td>\n",
              "      <td>10</td>\n",
              "      <td>...</td>\n",
              "      <td>0</td>\n",
              "      <td>0</td>\n",
              "      <td>0</td>\n",
              "      <td>0</td>\n",
              "      <td>0</td>\n",
              "      <td>0</td>\n",
              "      <td>0</td>\n",
              "      <td>0</td>\n",
              "      <td>0</td>\n",
              "      <td>0</td>\n",
              "    </tr>\n",
              "    <tr>\n",
              "      <th>4</th>\n",
              "      <td>Email 5</td>\n",
              "      <td>7</td>\n",
              "      <td>6</td>\n",
              "      <td>17</td>\n",
              "      <td>1</td>\n",
              "      <td>5</td>\n",
              "      <td>2</td>\n",
              "      <td>57</td>\n",
              "      <td>0</td>\n",
              "      <td>9</td>\n",
              "      <td>...</td>\n",
              "      <td>0</td>\n",
              "      <td>0</td>\n",
              "      <td>0</td>\n",
              "      <td>0</td>\n",
              "      <td>0</td>\n",
              "      <td>0</td>\n",
              "      <td>0</td>\n",
              "      <td>1</td>\n",
              "      <td>0</td>\n",
              "      <td>0</td>\n",
              "    </tr>\n",
              "  </tbody>\n",
              "</table>\n",
              "<p>5 rows × 3002 columns</p>\n",
              "</div>\n",
              "      <button class=\"colab-df-convert\" onclick=\"convertToInteractive('df-5d4925b3-be82-4334-807e-981bfb48a560')\"\n",
              "              title=\"Convert this dataframe to an interactive table.\"\n",
              "              style=\"display:none;\">\n",
              "        \n",
              "  <svg xmlns=\"http://www.w3.org/2000/svg\" height=\"24px\"viewBox=\"0 0 24 24\"\n",
              "       width=\"24px\">\n",
              "    <path d=\"M0 0h24v24H0V0z\" fill=\"none\"/>\n",
              "    <path d=\"M18.56 5.44l.94 2.06.94-2.06 2.06-.94-2.06-.94-.94-2.06-.94 2.06-2.06.94zm-11 1L8.5 8.5l.94-2.06 2.06-.94-2.06-.94L8.5 2.5l-.94 2.06-2.06.94zm10 10l.94 2.06.94-2.06 2.06-.94-2.06-.94-.94-2.06-.94 2.06-2.06.94z\"/><path d=\"M17.41 7.96l-1.37-1.37c-.4-.4-.92-.59-1.43-.59-.52 0-1.04.2-1.43.59L10.3 9.45l-7.72 7.72c-.78.78-.78 2.05 0 2.83L4 21.41c.39.39.9.59 1.41.59.51 0 1.02-.2 1.41-.59l7.78-7.78 2.81-2.81c.8-.78.8-2.07 0-2.86zM5.41 20L4 18.59l7.72-7.72 1.47 1.35L5.41 20z\"/>\n",
              "  </svg>\n",
              "      </button>\n",
              "      \n",
              "  <style>\n",
              "    .colab-df-container {\n",
              "      display:flex;\n",
              "      flex-wrap:wrap;\n",
              "      gap: 12px;\n",
              "    }\n",
              "\n",
              "    .colab-df-convert {\n",
              "      background-color: #E8F0FE;\n",
              "      border: none;\n",
              "      border-radius: 50%;\n",
              "      cursor: pointer;\n",
              "      display: none;\n",
              "      fill: #1967D2;\n",
              "      height: 32px;\n",
              "      padding: 0 0 0 0;\n",
              "      width: 32px;\n",
              "    }\n",
              "\n",
              "    .colab-df-convert:hover {\n",
              "      background-color: #E2EBFA;\n",
              "      box-shadow: 0px 1px 2px rgba(60, 64, 67, 0.3), 0px 1px 3px 1px rgba(60, 64, 67, 0.15);\n",
              "      fill: #174EA6;\n",
              "    }\n",
              "\n",
              "    [theme=dark] .colab-df-convert {\n",
              "      background-color: #3B4455;\n",
              "      fill: #D2E3FC;\n",
              "    }\n",
              "\n",
              "    [theme=dark] .colab-df-convert:hover {\n",
              "      background-color: #434B5C;\n",
              "      box-shadow: 0px 1px 3px 1px rgba(0, 0, 0, 0.15);\n",
              "      filter: drop-shadow(0px 1px 2px rgba(0, 0, 0, 0.3));\n",
              "      fill: #FFFFFF;\n",
              "    }\n",
              "  </style>\n",
              "\n",
              "      <script>\n",
              "        const buttonEl =\n",
              "          document.querySelector('#df-5d4925b3-be82-4334-807e-981bfb48a560 button.colab-df-convert');\n",
              "        buttonEl.style.display =\n",
              "          google.colab.kernel.accessAllowed ? 'block' : 'none';\n",
              "\n",
              "        async function convertToInteractive(key) {\n",
              "          const element = document.querySelector('#df-5d4925b3-be82-4334-807e-981bfb48a560');\n",
              "          const dataTable =\n",
              "            await google.colab.kernel.invokeFunction('convertToInteractive',\n",
              "                                                     [key], {});\n",
              "          if (!dataTable) return;\n",
              "\n",
              "          const docLinkHtml = 'Like what you see? Visit the ' +\n",
              "            '<a target=\"_blank\" href=https://colab.research.google.com/notebooks/data_table.ipynb>data table notebook</a>'\n",
              "            + ' to learn more about interactive tables.';\n",
              "          element.innerHTML = '';\n",
              "          dataTable['output_type'] = 'display_data';\n",
              "          await google.colab.output.renderOutput(dataTable, element);\n",
              "          const docLink = document.createElement('div');\n",
              "          docLink.innerHTML = docLinkHtml;\n",
              "          element.appendChild(docLink);\n",
              "        }\n",
              "      </script>\n",
              "    </div>\n",
              "  </div>\n",
              "  "
            ]
          },
          "metadata": {},
          "execution_count": 4
        }
      ],
      "source": [
        "df = pd.read_csv(\"emails.csv\")\n",
        "df.head()"
      ]
    },
    {
      "cell_type": "code",
      "execution_count": null,
      "id": "1f285ee1",
      "metadata": {
        "id": "1f285ee1",
        "outputId": "3df3de6f-fa87-40fe-95b8-062a7be0eaf1",
        "colab": {
          "base_uri": "https://localhost:8080/",
          "height": 295
        }
      },
      "outputs": [
        {
          "output_type": "display_data",
          "data": {
            "text/plain": [
              "<Figure size 432x288 with 1 Axes>"
            ],
            "image/png": "[encoded data removed]"
          },
          "metadata": {
            "needs_background": "light"
          }
        }
      ],
      "source": [
        "fig , ax = plt.subplots(figsize=(6,4))\n",
        "sns.countplot(x='Prediction', data=df)\n",
        "plt.title(\"Count of non-spam and spam\")\n",
        "plt.show()"
      ]
    },
    {
      "cell_type": "markdown",
      "id": "973ef8be",
      "metadata": {
        "id": "973ef8be"
      },
      "source": [
        "splitting data into train and test "
      ]
    },
    {
      "cell_type": "code",
      "execution_count": null,
      "id": "ece676be",
      "metadata": {
        "id": "ece676be"
      },
      "outputs": [],
      "source": [
        "X = df.iloc[:,1:3001]\n",
        "y = df.iloc[:,-1].values\n",
        "X_train, X_test, y_train, y_test = train_test_split(X,y,test_size = 0.25, random_state=5)"
      ]
    },
    {
      "cell_type": "markdown",
      "id": "1490ee0a",
      "metadata": {
        "id": "1490ee0a"
      },
      "source": [
        "# Baseline model"
      ]
    },
    {
      "cell_type": "code",
      "execution_count": null,
      "id": "287c994d",
      "metadata": {
        "id": "287c994d",
        "outputId": "08b823bf-b92a-434c-93eb-24ab4002096e",
        "colab": {
          "base_uri": "https://localhost:8080/"
        }
      },
      "outputs": [
        {
          "output_type": "execute_result",
          "data": {
            "text/plain": [
              "RandomForestClassifier(random_state=42)"
            ]
          },
          "metadata": {},
          "execution_count": 7
        }
      ],
      "source": [
        "rfc = RandomForestClassifier(random_state=42)\n",
        "\n",
        "rfc.fit(X_train,y_train)"
      ]
    },
    {
      "cell_type": "code",
      "execution_count": null,
      "id": "6414eb8f",
      "metadata": {
        "id": "6414eb8f",
        "outputId": "4f12aa31-adb3-4bca-ee1b-65cc59564589",
        "colab": {
          "base_uri": "https://localhost:8080/"
        }
      },
      "outputs": [
        {
          "output_type": "stream",
          "name": "stdout",
          "text": [
            "Train Results \n",
            "\n",
            "\n",
            "Accuracy Score for Train :  1.0\n",
            "ROC AUC for Train :  0.9999999999999999\n",
            "\n",
            "Confusion Matrix for Train : \n",
            " [[2782    0]\n",
            " [   0 1097]]\n",
            "\n",
            "classification report:\n",
            "               precision    recall  f1-score   support\n",
            "\n",
            "           0       1.00      1.00      1.00      2782\n",
            "           1       1.00      1.00      1.00      1097\n",
            "\n",
            "    accuracy                           1.00      3879\n",
            "   macro avg       1.00      1.00      1.00      3879\n",
            "weighted avg       1.00      1.00      1.00      3879\n",
            "\n",
            "\n",
            "Matthews correlation coefficient (MCC): 1.0\n"
          ]
        }
      ],
      "source": [
        "print(\"Train Results \\n\")\n",
        "y_train_pred  = rfc.predict(X_train)\n",
        "y_train_prob = rfc.predict_proba(X_train)[:,1]\n",
        "\n",
        "\n",
        "print(\"\\nAccuracy Score for Train : \", accuracy_score(y_train, y_train_pred))\n",
        "print(\"ROC AUC for Train : \", roc_auc_score(y_train, y_train_prob))\n",
        "print(\"\\nConfusion Matrix for Train : \\n\", confusion_matrix(y_train, y_train_pred))\n",
        "print(\"\\nclassification report:\\n\", classification_report(y_train, y_train_pred))\n",
        "print(\"\\nMatthews correlation coefficient (MCC):\", matthews_corrcoef(y_train, y_train_pred))"
      ]
    },
    {
      "cell_type": "code",
      "execution_count": null,
      "id": "38c2f31e",
      "metadata": {
        "scrolled": true,
        "id": "38c2f31e",
        "outputId": "e4956e24-2123-4bd2-8923-177403911db7",
        "colab": {
          "base_uri": "https://localhost:8080/"
        }
      },
      "outputs": [
        {
          "output_type": "stream",
          "name": "stdout",
          "text": [
            "Test Results \n",
            "\n",
            "Accuracy Score for Test\n",
            " :  0.9767981438515081\n",
            "ROC AUC for Test :\n",
            "  0.9970446371316252\n",
            "Confusion Matrix for Test : \n",
            " [[881   9]\n",
            " [ 21 382]]\n",
            "classification report:\n",
            "               precision    recall  f1-score   support\n",
            "\n",
            "           0       0.98      0.99      0.98       890\n",
            "           1       0.98      0.95      0.96       403\n",
            "\n",
            "    accuracy                           0.98      1293\n",
            "   macro avg       0.98      0.97      0.97      1293\n",
            "weighted avg       0.98      0.98      0.98      1293\n",
            "\n",
            "\n",
            "Matthews correlation coefficient (MCC): 0.9457059723930833\n"
          ]
        }
      ],
      "source": [
        "print(\"Test Results \\n\")\n",
        "y_test_pred  = rfc.predict(X_test)\n",
        "y_test_prob = rfc.predict_proba(X_test)[:,1]\n",
        "\n",
        "\n",
        "print(\"Accuracy Score for Test\\n : \", accuracy_score(y_test, y_test_pred))\n",
        "print(\"ROC AUC for Test :\\n \", roc_auc_score(y_test, y_test_prob))\n",
        "print(\"Confusion Matrix for Test : \\n\", confusion_matrix(y_test, y_test_pred))\n",
        "print(\"classification report:\\n\", classification_report(y_test, y_test_pred))\n",
        "print(\"\\nMatthews correlation coefficient (MCC):\", matthews_corrcoef(y_test, y_test_pred))\n"
      ]
    },
    {
      "cell_type": "markdown",
      "id": "ebfeda9e",
      "metadata": {
        "id": "ebfeda9e"
      },
      "source": [
        "model is overfitting - learning too much from the data.\n"
      ]
    },
    {
      "cell_type": "markdown",
      "id": "7d8f7535",
      "metadata": {
        "id": "7d8f7535"
      },
      "source": [
        "# Normalization"
      ]
    },
    {
      "cell_type": "code",
      "execution_count": null,
      "id": "96d66523",
      "metadata": {
        "id": "96d66523"
      },
      "outputs": [],
      "source": [
        "from sklearn.preprocessing import StandardScaler\n",
        "scaler = StandardScaler()\n",
        "\n",
        "X_train = scaler.fit_transform(X_train)\n",
        "X_test = scaler.transform(X_test)"
      ]
    },
    {
      "cell_type": "code",
      "execution_count": null,
      "id": "6115acf0",
      "metadata": {
        "id": "6115acf0",
        "outputId": "2440887c-6b3c-4c19-8383-d00ba92e6577",
        "colab": {
          "base_uri": "https://localhost:8080/"
        }
      },
      "outputs": [
        {
          "output_type": "execute_result",
          "data": {
            "text/plain": [
              "RandomForestClassifier(random_state=42)"
            ]
          },
          "metadata": {},
          "execution_count": 11
        }
      ],
      "source": [
        "rfc = RandomForestClassifier(random_state=42)\n",
        "\n",
        "rfc.fit(X_train,y_train)"
      ]
    },
    {
      "cell_type": "code",
      "execution_count": null,
      "id": "48a3c67d",
      "metadata": {
        "id": "48a3c67d",
        "outputId": "f75052b6-f268-4dad-ad15-d151588a11d6",
        "colab": {
          "base_uri": "https://localhost:8080/"
        }
      },
      "outputs": [
        {
          "output_type": "stream",
          "name": "stdout",
          "text": [
            "Train Results \n",
            "\n",
            "\n",
            "Accuracy Score for Train :  1.0\n",
            "ROC AUC for Train :  1.0\n",
            "\n",
            "Confusion Matrix for Train : \n",
            " [[2782    0]\n",
            " [   0 1097]]\n",
            "\n",
            "classification report:\n",
            "               precision    recall  f1-score   support\n",
            "\n",
            "           0       1.00      1.00      1.00      2782\n",
            "           1       1.00      1.00      1.00      1097\n",
            "\n",
            "    accuracy                           1.00      3879\n",
            "   macro avg       1.00      1.00      1.00      3879\n",
            "weighted avg       1.00      1.00      1.00      3879\n",
            "\n",
            "\n",
            "Matthews correlation coefficient (MCC): 1.0\n"
          ]
        }
      ],
      "source": [
        "print(\"Train Results \\n\")\n",
        "y_train_pred  = rfc.predict(X_train)\n",
        "y_train_prob = rfc.predict_proba(X_train)[:,1]\n",
        "\n",
        "print(\"\\nAccuracy Score for Train : \", accuracy_score(y_train, y_train_pred))\n",
        "print(\"ROC AUC for Train : \", roc_auc_score(y_train, y_train_prob))\n",
        "print(\"\\nConfusion Matrix for Train : \\n\", confusion_matrix(y_train, y_train_pred))\n",
        "print(\"\\nclassification report:\\n\", classification_report(y_train, y_train_pred))\n",
        "print(\"\\nMatthews correlation coefficient (MCC):\", matthews_corrcoef(y_train, y_train_pred))"
      ]
    },
    {
      "cell_type": "code",
      "execution_count": null,
      "id": "e896f177",
      "metadata": {
        "id": "e896f177",
        "outputId": "60e61c5a-4825-4053-cadc-c165660cc6a1",
        "colab": {
          "base_uri": "https://localhost:8080/"
        }
      },
      "outputs": [
        {
          "output_type": "stream",
          "name": "stdout",
          "text": [
            "Test Results \n",
            "\n",
            "Accuracy Score for Test\n",
            " :  0.9760247486465584\n",
            "ROC AUC for Test :\n",
            "  0.9970418490534474\n",
            "Confusion Matrix for Test : \n",
            " [[881   9]\n",
            " [ 22 381]]\n",
            "classification report:\n",
            "               precision    recall  f1-score   support\n",
            "\n",
            "           0       0.98      0.99      0.98       890\n",
            "           1       0.98      0.95      0.96       403\n",
            "\n",
            "    accuracy                           0.98      1293\n",
            "   macro avg       0.98      0.97      0.97      1293\n",
            "weighted avg       0.98      0.98      0.98      1293\n",
            "\n",
            "\n",
            "Matthews correlation coefficient (MCC): 0.9438889924885592\n"
          ]
        }
      ],
      "source": [
        "print(\"Test Results \\n\")\n",
        "y_test_pred  = rfc.predict(X_test)\n",
        "y_test_prob = rfc.predict_proba(X_test)[:,1]\n",
        "\n",
        "\n",
        "print(\"Accuracy Score for Test\\n : \", accuracy_score(y_test, y_test_pred))\n",
        "print(\"ROC AUC for Test :\\n \", roc_auc_score(y_test, y_test_prob))\n",
        "print(\"Confusion Matrix for Test : \\n\", confusion_matrix(y_test, y_test_pred))\n",
        "print(\"classification report:\\n\", classification_report(y_test, y_test_pred))\n",
        "print(\"\\nMatthews correlation coefficient (MCC):\", matthews_corrcoef(y_test, y_test_pred))"
      ]
    },
    {
      "cell_type": "markdown",
      "id": "01b8697d",
      "metadata": {
        "id": "01b8697d"
      },
      "source": [
        "# PCA "
      ]
    },
    {
      "cell_type": "code",
      "execution_count": null,
      "id": "a232f630",
      "metadata": {
        "id": "a232f630"
      },
      "outputs": [],
      "source": [
        "from sklearn.decomposition import PCA\n",
        "pca = PCA(0.95)\n",
        "X_train = pca.fit_transform(X_train)\n",
        "X_test = pca.transform(X_test)"
      ]
    },
    {
      "cell_type": "code",
      "execution_count": null,
      "id": "49a9fb23",
      "metadata": {
        "id": "49a9fb23",
        "outputId": "482bbe2d-f152-494d-f7e8-2fc349f7b9fc",
        "colab": {
          "base_uri": "https://localhost:8080/"
        }
      },
      "outputs": [
        {
          "output_type": "execute_result",
          "data": {
            "text/plain": [
              "RandomForestClassifier(random_state=42)"
            ]
          },
          "metadata": {},
          "execution_count": 15
        }
      ],
      "source": [
        "rfc = RandomForestClassifier(random_state=42)\n",
        "\n",
        "rfc.fit(X_train,y_train)"
      ]
    },
    {
      "cell_type": "code",
      "execution_count": null,
      "id": "7bd50869",
      "metadata": {
        "id": "7bd50869",
        "outputId": "da8f50b6-ef6c-42cc-9331-dc65b2e8f396",
        "colab": {
          "base_uri": "https://localhost:8080/"
        }
      },
      "outputs": [
        {
          "output_type": "stream",
          "name": "stdout",
          "text": [
            "Train Results \n",
            "\n",
            "\n",
            "Accuracy Score for Train :  1.0\n",
            "ROC AUC for Train :  1.0\n",
            "\n",
            "Confusion Matrix for Train : \n",
            " [[2782    0]\n",
            " [   0 1097]]\n",
            "\n",
            "classification report:\n",
            "               precision    recall  f1-score   support\n",
            "\n",
            "           0       1.00      1.00      1.00      2782\n",
            "           1       1.00      1.00      1.00      1097\n",
            "\n",
            "    accuracy                           1.00      3879\n",
            "   macro avg       1.00      1.00      1.00      3879\n",
            "weighted avg       1.00      1.00      1.00      3879\n",
            "\n",
            "\n",
            "Matthews correlation coefficient (MCC): 1.0\n"
          ]
        }
      ],
      "source": [
        "print(\"Train Results \\n\")\n",
        "y_train_pred  = rfc.predict(X_train)\n",
        "y_train_prob = rfc.predict_proba(X_train)[:,1]\n",
        "\n",
        "print(\"\\nAccuracy Score for Train : \", accuracy_score(y_train, y_train_pred))\n",
        "print(\"ROC AUC for Train : \", roc_auc_score(y_train, y_train_prob))\n",
        "print(\"\\nConfusion Matrix for Train : \\n\", confusion_matrix(y_train, y_train_pred))\n",
        "print(\"\\nclassification report:\\n\", classification_report(y_train, y_train_pred))\n",
        "print(\"\\nMatthews correlation coefficient (MCC):\", matthews_corrcoef(y_train, y_train_pred))"
      ]
    },
    {
      "cell_type": "code",
      "execution_count": null,
      "id": "d43952f8",
      "metadata": {
        "id": "d43952f8",
        "outputId": "ef29f6c6-92ba-49dd-ab2f-460334d55183",
        "colab": {
          "base_uri": "https://localhost:8080/"
        }
      },
      "outputs": [
        {
          "output_type": "stream",
          "name": "stdout",
          "text": [
            "Test Results \n",
            "\n",
            "Accuracy Score for Test\n",
            " :  0.9520494972931168\n",
            "ROC AUC for Test :\n",
            "  0.9931831488554939\n",
            "Confusion Matrix for Test : \n",
            " [[874  16]\n",
            " [ 46 357]]\n",
            "classification report:\n",
            "               precision    recall  f1-score   support\n",
            "\n",
            "           0       0.95      0.98      0.97       890\n",
            "           1       0.96      0.89      0.92       403\n",
            "\n",
            "    accuracy                           0.95      1293\n",
            "   macro avg       0.95      0.93      0.94      1293\n",
            "weighted avg       0.95      0.95      0.95      1293\n",
            "\n",
            "\n",
            "Matthews correlation coefficient (MCC): 0.8872748105159453\n"
          ]
        }
      ],
      "source": [
        "print(\"Test Results \\n\")\n",
        "y_test_pred  = rfc.predict(X_test)\n",
        "y_test_prob = rfc.predict_proba(X_test)[:,1]\n",
        "\n",
        "print(\"Accuracy Score for Test\\n : \", accuracy_score(y_test, y_test_pred))\n",
        "print(\"ROC AUC for Test :\\n \", roc_auc_score(y_test, y_test_prob))\n",
        "print(\"Confusion Matrix for Test : \\n\", confusion_matrix(y_test, y_test_pred))\n",
        "print(\"classification report:\\n\", classification_report(y_test, y_test_pred))\n",
        "print(\"\\nMatthews correlation coefficient (MCC):\", matthews_corrcoef(y_test, y_test_pred))"
      ]
    },
    {
      "cell_type": "markdown",
      "id": "9ff88d34",
      "metadata": {
        "id": "9ff88d34"
      },
      "source": [
        " hyper-parameter tuning to find best parameters "
      ]
    },
    {
      "cell_type": "markdown",
      "id": "50998ef5",
      "metadata": {
        "id": "50998ef5"
      },
      "source": [
        "# hyper-parameter tuning"
      ]
    },
    {
      "cell_type": "code",
      "execution_count": null,
      "id": "7550fdb1",
      "metadata": {
        "id": "7550fdb1",
        "outputId": "8bcaf458-91f9-4e1b-b01b-792a99c86d5c",
        "colab": {
          "base_uri": "https://localhost:8080/"
        }
      },
      "outputs": [
        {
          "output_type": "execute_result",
          "data": {
            "text/plain": [
              "RandomizedSearchCV(cv=3, estimator=RandomForestClassifier(random_state=42),\n",
              "                   n_iter=50, n_jobs=-1,\n",
              "                   param_distributions={'criterion': ['gini', 'entropy'],\n",
              "                                        'max_depth': <scipy.stats._distn_infrastructure.rv_frozen object at 0x7efde0f00970>,\n",
              "                                        'max_features': <scipy.stats._distn_infrastructure.rv_frozen object at 0x7efde0ef2d00>,\n",
              "                                        'min_samples_leaf': <scipy.stats._distn_infrastructure.rv_frozen object at 0x7efde0f00070>,\n",
              "                                        'min_samples_split': <scipy.stats._distn_infrastructure.rv_frozen object at 0x7efde0f00460>,\n",
              "                                        'n_estimators': <scipy.stats._distn_infrastructure.rv_frozen object at 0x7efde0f00fd0>},\n",
              "                   random_state=42, return_train_score=True,\n",
              "                   scoring='accuracy')"
            ]
          },
          "metadata": {},
          "execution_count": 18
        }
      ],
      "source": [
        "from sklearn.model_selection import RandomizedSearchCV\n",
        "from scipy.stats import randint as sp_randint\n",
        "\n",
        "rfc = RandomForestClassifier(random_state=42)\n",
        "\n",
        "\n",
        "\n",
        "params = {'n_estimators': sp_randint(50,400),\n",
        "          'max_features' : sp_randint(2,16),\n",
        "          'max_depth' : sp_randint(2,10),\n",
        "          'min_samples_split' : sp_randint(2,25),\n",
        "          'min_samples_leaf' : sp_randint(1,25),\n",
        "          'criterion':['gini','entropy']}\n",
        "\n",
        "rsearch = RandomizedSearchCV(rfc,\n",
        "                             param_distributions=params,\n",
        "                             n_iter=50,\n",
        "                             cv=3, \n",
        "                             return_train_score = True,\n",
        "                             scoring='accuracy',\n",
        "                             n_jobs=-1,\n",
        "                            random_state=42)\n",
        "\n",
        "rsearch.fit(X_train,y_train)"
      ]
    },
    {
      "cell_type": "code",
      "execution_count": null,
      "id": "c81c356b",
      "metadata": {
        "id": "c81c356b",
        "outputId": "0fe8232e-03ef-41cc-805a-5dfe74cf2fcd",
        "colab": {
          "base_uri": "https://localhost:8080/"
        }
      },
      "outputs": [
        {
          "output_type": "execute_result",
          "data": {
            "text/plain": [
              "{'criterion': 'gini',\n",
              " 'max_depth': 8,\n",
              " 'max_features': 14,\n",
              " 'min_samples_leaf': 1,\n",
              " 'min_samples_split': 8,\n",
              " 'n_estimators': 58}"
            ]
          },
          "metadata": {},
          "execution_count": 19
        }
      ],
      "source": [
        "rsearch.best_params_"
      ]
    },
    {
      "cell_type": "markdown",
      "id": "a7c3ceaf",
      "metadata": {
        "id": "a7c3ceaf"
      },
      "source": [
        "using optimized parameters"
      ]
    },
    {
      "cell_type": "markdown",
      "id": "fd659baa",
      "metadata": {
        "id": "fd659baa"
      },
      "source": [
        "# Best model"
      ]
    },
    {
      "cell_type": "code",
      "execution_count": null,
      "id": "7881d734",
      "metadata": {
        "scrolled": true,
        "id": "7881d734",
        "outputId": "a0f90e5a-115e-4c8f-91cc-f9c234c8c0ad",
        "colab": {
          "base_uri": "https://localhost:8080/"
        }
      },
      "outputs": [
        {
          "output_type": "execute_result",
          "data": {
            "text/plain": [
              "RandomForestClassifier(max_depth=8, max_features=14, min_samples_split=8,\n",
              "                       n_estimators=58, random_state=42)"
            ]
          },
          "metadata": {},
          "execution_count": 20
        }
      ],
      "source": [
        "from sklearn.metrics import accuracy_score, roc_auc_score, roc_curve\n",
        "\n",
        "rfc = RandomForestClassifier(criterion='gini', max_depth=8, max_features=14, min_samples_leaf=1, min_samples_split=8, n_estimators=58, random_state=42)\n",
        "rfc.fit(X_train,y_train)"
      ]
    },
    {
      "cell_type": "code",
      "execution_count": null,
      "id": "0e8fc796",
      "metadata": {
        "id": "0e8fc796",
        "outputId": "c92cdd7e-8554-4b28-9e72-c97a512736e8",
        "colab": {
          "base_uri": "https://localhost:8080/"
        }
      },
      "outputs": [
        {
          "output_type": "stream",
          "name": "stdout",
          "text": [
            "Train Results \n",
            "\n",
            "\n",
            "Accuracy Score for Train :  0.9853054911059551\n",
            "\n",
            "ROC AUC for Train :  0.99934072861939\n",
            "\n",
            "Confusion Matrix for Train : \n",
            " [[2774    8]\n",
            " [  49 1048]]\n",
            "\n",
            "classification report:\n",
            "               precision    recall  f1-score   support\n",
            "\n",
            "           0       0.98      1.00      0.99      2782\n",
            "           1       0.99      0.96      0.97      1097\n",
            "\n",
            "    accuracy                           0.99      3879\n",
            "   macro avg       0.99      0.98      0.98      3879\n",
            "weighted avg       0.99      0.99      0.99      3879\n",
            "\n",
            "\n",
            "Matthews correlation coefficient (MCC): 0.9636956539916872\n"
          ]
        }
      ],
      "source": [
        "print(\"Train Results \\n\")\n",
        "y_train_pred  = rfc.predict(X_train)\n",
        "y_train_prob = rfc.predict_proba(X_train)[:,1]\n",
        "\n",
        "print(\"\\nAccuracy Score for Train : \", accuracy_score(y_train, y_train_pred))\n",
        "print(\"\\nROC AUC for Train : \", roc_auc_score(y_train, y_train_prob))\n",
        "print(\"\\nConfusion Matrix for Train : \\n\", confusion_matrix(y_train, y_train_pred))\n",
        "print(\"\\nclassification report:\\n\", classification_report(y_train, y_train_pred))\n",
        "print(\"\\nMatthews correlation coefficient (MCC):\", matthews_corrcoef(y_train, y_train_pred))"
      ]
    },
    {
      "cell_type": "code",
      "execution_count": null,
      "id": "ea239040",
      "metadata": {
        "id": "ea239040",
        "outputId": "a97ead35-7cdc-45a2-973a-94dc137819ae",
        "colab": {
          "base_uri": "https://localhost:8080/"
        }
      },
      "outputs": [
        {
          "output_type": "stream",
          "name": "stdout",
          "text": [
            "Test Results \n",
            "\n",
            "Accuracy Score for Test :  0.8948182521268369\n",
            "\n",
            "ROC AUC for Test :  0.9879025287869072\n",
            "Confusion Matrix for Test : \n",
            " [[882   8]\n",
            " [128 275]]\n",
            "classification report:\n",
            "               precision    recall  f1-score   support\n",
            "\n",
            "           0       0.87      0.99      0.93       890\n",
            "           1       0.97      0.68      0.80       403\n",
            "\n",
            "    accuracy                           0.89      1293\n",
            "   macro avg       0.92      0.84      0.87      1293\n",
            "weighted avg       0.90      0.89      0.89      1293\n",
            "\n",
            "\n",
            "Matthews correlation coefficient (MCC): 0.7543318719468923\n"
          ]
        }
      ],
      "source": [
        "print(\"Test Results \\n\")\n",
        "y_test_pred  = rfc.predict(X_test)\n",
        "y_test_prob = rfc.predict_proba(X_test)[:,1]\n",
        "\n",
        "print(\"Accuracy Score for Test : \", accuracy_score(y_test, y_test_pred))\n",
        "print(\"\\nROC AUC for Test : \", roc_auc_score(y_test, y_test_prob))\n",
        "print(\"Confusion Matrix for Test : \\n\", confusion_matrix(y_test, y_test_pred))\n",
        "print(\"classification report:\\n\", classification_report(y_test, y_test_pred))\n",
        "print(\"\\nMatthews correlation coefficient (MCC):\", matthews_corrcoef(y_test, y_test_pred))"
      ]
    },
    {
      "cell_type": "markdown",
      "id": "e497efd6",
      "metadata": {
        "id": "e497efd6"
      },
      "source": [
        "model is not overfitted."
      ]
    },
    {
      "cell_type": "markdown",
      "source": [
        "**ROC-AUC Curve for Test Data¶**\n",
        "\n"
      ],
      "metadata": {
        "id": "Kkl_EDPPZJtN"
      },
      "id": "Kkl_EDPPZJtN"
    },
    {
      "cell_type": "code",
      "execution_count": null,
      "id": "a0459a5d",
      "metadata": {
        "id": "a0459a5d"
      },
      "outputs": [],
      "source": [
        "fpr, tpr, thresholds = roc_curve(y_test,y_test_prob)\n",
        "thresholds[0] = thresholds[0]-1"
      ]
    },
    {
      "cell_type": "code",
      "source": [
        "fig, bx = plt.subplots(figsize=(11,7))\n",
        "bx.plot(fpr,tpr,'blue')\n",
        "bx.plot(fpr,fpr,'red')\n",
        "bx1=bx.twinx()\n",
        "bx1.plot(fpr,thresholds)\n",
        "bx1.set_ylabel(\"ROC Curve for RF classifier\")\n",
        "bx.set_xlabel(\"False Positive Rate\")\n",
        "bx.set_ylabel(\"True Positive Rate\")\n",
        "plt.show()\n",
        "\n"
      ],
      "metadata": {
        "colab": {
          "base_uri": "https://localhost:8080/",
          "height": 442
        },
        "id": "Db86PjsxZGhh",
        "outputId": "c8d8febc-6a5e-4997-c334-c1caa41f5972"
      },
      "id": "Db86PjsxZGhh",
      "execution_count": null,
      "outputs": [
        {
          "output_type": "display_data",
          "data": {
            "text/plain": [
              "<Figure size 792x504 with 2 Axes>"
            ],
            "image/png": "[encoded data removed]"
          },
          "metadata": {
            "needs_background": "light"
          }
        }
      ]
    }
  ],
  "metadata": {
    "kernelspec": {
      "display_name": "Python 3 (ipykernel)",
      "language": "python",
      "name": "python3"
    },
    "language_info": {
      "codemirror_mode": {
        "name": "ipython",
        "version": 3
      },
      "file_extension": ".py",
      "mimetype": "text/x-python",
      "name": "python",
      "nbconvert_exporter": "python",
      "pygments_lexer": "ipython3",
      "version": "3.9.12"
    },
    "colab": {
      "provenance": []
    }
  },
  "nbformat": 4,
  "nbformat_minor": 5
}